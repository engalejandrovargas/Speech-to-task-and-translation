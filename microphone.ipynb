{
 "cells": [
  {
   "cell_type": "code",
   "execution_count": null,
   "id": "59357950",
   "metadata": {},
   "outputs": [],
   "source": [
    "# Import necessary libraries\n",
    "from ibm_watson import LanguageTranslatorV3\n",
    "from ibm_cloud_sdk_core.authenticators import IAMAuthenticator\n",
    "import speech_recognition as sr\n",
    "from pydub import AudioSegment\n",
    "import time\n",
    "\n",
    "# IBM Watson Language Translator API credentials\n",
    "API_key = 'API'\n",
    "url = 'API-URL'\n",
    "\n",
    "# Set up the IBM Watson Language Translator\n",
    "authenticator = IAMAuthenticator(apikey=API_key)\n",
    "langtranslator = LanguageTranslatorV3(version='2018-05-01', authenticator=authenticator)\n",
    "langtranslator.set_service_url(url)\n",
    "\n",
    "# Set up speech recognition\n",
    "recognizer = sr.Recognizer()\n",
    "recognizer.energy_threshold = 300\n",
    "mic = sr.Microphone()\n",
    "\n",
    "# Function to perform audio recording and translation\n",
    "def audio_recording():\n",
    "    with mic as source:\n",
    "        # Adjust for ambient noise before recording\n",
    "        recognizer.adjust_for_ambient_noise(source)\n",
    "        print('--')\n",
    "        # Record audio\n",
    "        audio = recognizer.listen(source)\n",
    "        try:\n",
    "            # Recognize speech using Google Speech Recognition\n",
    "            text = recognizer.recognize_google(audio)\n",
    "            \n",
    "            # Translate the recognized text using IBM Watson Language Translator\n",
    "            translation = langtranslator.translate(text=text, model_id='en-ja')\n",
    "            result = translation.get_result()\n",
    "            \n",
    "            # Print the translated text\n",
    "            print(result['translations'][0]['translation'])\n",
    "        except sr.RequestError:\n",
    "            # Handle the case when the recognition request to Google Speech Recognition fails\n",
    "            print('Down')\n",
    "\n",
    "# Pause for 1 second\n",
    "time.sleep(1)\n",
    "\n",
    "# Set up a loop for continuous audio recording and translation\n",
    "a = True\n",
    "while a:\n",
    "    audio_recording()\n"
   ]
  },
  {
   "cell_type": "code",
   "execution_count": null,
   "id": "cc7c8b40",
   "metadata": {},
   "outputs": [],
   "source": [
    "# Set up speech recognition\n",
    "recognizer = sr.Recognizer()\n",
    "recognizer.energy_threshold = 300\n",
    "mic = sr.Microphone()\n",
    "\n",
    "# Function to perform audio recording and translation\n",
    "def audio_recording():\n",
    "    with mic as source:\n",
    "        # Adjust for ambient noise before recording\n",
    "        recognizer.adjust_for_ambient_noise(source)\n",
    "        print('--')\n",
    "        # Record audio\n",
    "        audio = recognizer.listen(source)\n",
    "        try:\n",
    "            # Recognize speech using Google Speech Recognition\n",
    "            text = recognizer.recognize_google(audio)\n",
    "\n",
    "            # Print the text\n",
    "            print(text)\n",
    "        except sr.RequestError:\n",
    "            # Handle the case when the recognition request to Google Speech Recognition fails\n",
    "            print('Down')\n",
    "\n",
    "# Pause for 1 second\n",
    "time.sleep(1)\n",
    "\n",
    "# Set up a loop for continuous audio recording and translation\n",
    "a = True\n",
    "while a:\n",
    "    audio_recording()"
   ]
  },
  {
   "cell_type": "code",
   "execution_count": null,
   "id": "72953959",
   "metadata": {},
   "outputs": [],
   "source": []
  }
 ],
 "metadata": {
  "kernelspec": {
   "display_name": "Python 3 (ipykernel)",
   "language": "python",
   "name": "python3"
  },
  "language_info": {
   "codemirror_mode": {
    "name": "ipython",
    "version": 3
   },
   "file_extension": ".py",
   "mimetype": "text/x-python",
   "name": "python",
   "nbconvert_exporter": "python",
   "pygments_lexer": "ipython3",
   "version": "3.9.12"
  },
  "varInspector": {
   "cols": {
    "lenName": 16,
    "lenType": 16,
    "lenVar": 40
   },
   "kernels_config": {
    "python": {
     "delete_cmd_postfix": "",
     "delete_cmd_prefix": "del ",
     "library": "var_list.py",
     "varRefreshCmd": "print(var_dic_list())"
    },
    "r": {
     "delete_cmd_postfix": ") ",
     "delete_cmd_prefix": "rm(",
     "library": "var_list.r",
     "varRefreshCmd": "cat(var_dic_list()) "
    }
   },
   "types_to_exclude": [
    "module",
    "function",
    "builtin_function_or_method",
    "instance",
    "_Feature"
   ],
   "window_display": false
  }
 },
 "nbformat": 4,
 "nbformat_minor": 5
}
